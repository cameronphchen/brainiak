{
 "cells": [
  {
   "cell_type": "markdown",
   "metadata": {},
   "source": [
    "# Load Libraries"
   ]
  },
  {
   "cell_type": "code",
   "execution_count": 1,
   "metadata": {
    "collapsed": false
   },
   "outputs": [],
   "source": [
    "%matplotlib inline\n",
    "import scipy.io\n",
    "from scipy.stats import stats\n",
    "from sklearn.cross_validation import LeaveOneLabelOut\n",
    "from sklearn.cross_validation import cross_val_score\n",
    "from sklearn.metrics import confusion_matrix\n",
    "from sklearn.svm import NuSVC\n",
    "import numpy as np"
   ]
  },
  {
   "cell_type": "code",
   "execution_count": 2,
   "metadata": {
    "collapsed": false
   },
   "outputs": [],
   "source": [
    "import sys\n",
    "sys.path.append('/Users/ChimatChen/brainiak')"
   ]
  },
  {
   "cell_type": "markdown",
   "metadata": {
    "collapsed": false,
    "scrolled": false
   },
   "source": [
    "# Load Data "
   ]
  },
  {
   "cell_type": "code",
   "execution_count": 3,
   "metadata": {
    "collapsed": true
   },
   "outputs": [],
   "source": [
    "movie_file = scipy.io.loadmat('data/movie_data.mat')"
   ]
  },
  {
   "cell_type": "code",
   "execution_count": 10,
   "metadata": {
    "collapsed": false
   },
   "outputs": [],
   "source": [
    "movie_data_left = movie_file['movie_data_lh']\n",
    "movie_data_right = movie_file['movie_data_rh']\n",
    "subjects = movie_data_left.shape[2]\n",
    "nTR = movie_data_right.shape[1]\n",
    "\n",
    "train_data = []\n",
    "test_data = []\n",
    "for s in range(subjects):\n",
    "    train_data.append(np.concatenate([movie_data_left[:,:nTR//2,s], movie_data_right[:,:nTR//2,s]], axis=0))\n",
    "    test_data.append(np.concatenate([movie_data_left[:,nTR//2:,s], movie_data_right[:,nTR//2:,s]], axis=0))"
   ]
  },
  {
   "cell_type": "markdown",
   "metadata": {},
   "source": [
    "# Preprocessing the data if not already processed"
   ]
  },
  {
   "cell_type": "markdown",
   "metadata": {},
   "source": [
    "z-score"
   ]
  },
  {
   "cell_type": "code",
   "execution_count": 14,
   "metadata": {
    "collapsed": true
   },
   "outputs": [],
   "source": [
    "for subject in range(subjects):\n",
    "    train_data[subject] = stats.zscore(train_data[subject],axis=1,ddof=1)\n",
    "for subject in range(subjects):\n",
    "    test_data[subject] = stats.zscore(test_data[subject],axis=1,ddof=1)"
   ]
  },
  {
   "cell_type": "markdown",
   "metadata": {},
   "source": [
    "# Fit model to Data"
   ]
  },
  {
   "cell_type": "code",
   "execution_count": 15,
   "metadata": {
    "collapsed": true
   },
   "outputs": [],
   "source": [
    "import brainiak.funcalign.srm"
   ]
  },
  {
   "cell_type": "code",
   "execution_count": 16,
   "metadata": {
    "collapsed": false
   },
   "outputs": [
    {
     "data": {
      "text/plain": [
       "SRM(features=50, n_iter=10, rand_seed=0)"
      ]
     },
     "execution_count": 16,
     "metadata": {},
     "output_type": "execute_result"
    }
   ],
   "source": [
    "srm = brainiak.funcalign.srm.SRM(n_iter=10, features=50)\n",
    "srm.fit(train_data)"
   ]
  },
  {
   "cell_type": "markdown",
   "metadata": {},
   "source": [
    "# Evaluation"
   ]
  },
  {
   "cell_type": "code",
   "execution_count": 33,
   "metadata": {
    "collapsed": false
   },
   "outputs": [],
   "source": [
    "def timesegmentmatching_accuracy_evaluation_loo_cv(data, win_size=6):\n",
    " \n",
    "    nsubjs = len(data)\n",
    "    (ndim, nsample) = data[0].shape\n",
    "    accu = np.zeros(shape=nsubjs)\n",
    "\n",
    "    nseg = nsample - win_size \n",
    "    # mysseg prediction prediction\n",
    "    trn_data = np.zeros((ndim*win_size, nseg))\n",
    "\n",
    "    # the trn data also include the tst data, but will be subtracted when \n",
    "    # calculating A\n",
    "    for m in range(nsubjs):\n",
    "        for w in range(win_size):\n",
    "            trn_data[w*ndim:(w+1)*ndim,:] += data[m][:,w:(w+nseg)]\n",
    "\n",
    "    for tst_subj in range(nsubjs):\n",
    "        tst_data = np.zeros((ndim*win_size, nseg))\n",
    "        for w in range(win_size):\n",
    "            tst_data[w*ndim:(w+1)*ndim,:] = data[tst_subj][:,w:(w+nseg)]\n",
    "\n",
    "        A =  stats.zscore((trn_data - tst_data),axis=0, ddof=1)\n",
    "        B =  stats.zscore(tst_data,axis=0, ddof=1)\n",
    "\n",
    "        corr_mtx = B.T.dot(A)\n",
    "\n",
    "        for i in range(nseg):\n",
    "            for j in range(nseg):\n",
    "                if abs(i-j)<win_size and i != j :\n",
    "                    corr_mtx[i,j] = -np.inf\n",
    "\n",
    "        rank =  np.argmax(corr_mtx, axis=1)\n",
    "        accu[tst_subj] = sum(rank == range(nseg)) / float(nseg)\n",
    "    print(accu)\n",
    "    print(\"The average accuracy among all subjects is {0:f} +/- {1:f}\".format(np.mean(accu), np.std(accu)))"
   ]
  },
  {
   "cell_type": "code",
   "execution_count": 34,
   "metadata": {
    "collapsed": false
   },
   "outputs": [
    {
     "name": "stdout",
     "output_type": "stream",
     "text": [
      "[ 0.82025547  0.74270073  0.68430657  0.92062044  0.75729927  0.76733577\n",
      "  0.84032847  0.8020073   0.79288321  0.89963504]\n",
      "The average accuracy among all subjects is 0.802737 +/- 0.067861\n"
     ]
    }
   ],
   "source": [
    "data_shared = srm.transform(test_data)\n",
    "for subject in range(subjects):\n",
    "    data_shared[subject] = stats.zscore(data_shared[subject], axis=1, ddof=1)\n",
    "\n",
    "timesegmentmatching_accuracy_evaluation_loo_cv(data_shared, win_size=6)"
   ]
  },
  {
   "cell_type": "code",
   "execution_count": null,
   "metadata": {
    "collapsed": true
   },
   "outputs": [],
   "source": []
  }
 ],
 "metadata": {
  "anaconda-cloud": {},
  "kernelspec": {
   "display_name": "Python [conda env:py35]",
   "language": "python",
   "name": "conda-env-py35-py"
  },
  "language_info": {
   "codemirror_mode": {
    "name": "ipython",
    "version": 3
   },
   "file_extension": ".py",
   "mimetype": "text/x-python",
   "name": "python",
   "nbconvert_exporter": "python",
   "pygments_lexer": "ipython3",
   "version": "3.5.2"
  }
 },
 "nbformat": 4,
 "nbformat_minor": 0
}
