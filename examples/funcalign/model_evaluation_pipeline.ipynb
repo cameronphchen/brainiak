{
 "cells": [
  {
   "cell_type": "markdown",
   "metadata": {},
   "source": [
    "# Load Libraries"
   ]
  },
  {
   "cell_type": "code",
   "execution_count": 1,
   "metadata": {
    "collapsed": false
   },
   "outputs": [],
   "source": [
    "%matplotlib inline\n",
    "import scipy.io\n",
    "from scipy.stats import stats\n",
    "from sklearn.cross_validation import LeaveOneLabelOut\n",
    "from sklearn.cross_validation import cross_val_score\n",
    "from sklearn.metrics import confusion_matrix\n",
    "from sklearn.svm import NuSVC\n",
    "import numpy as np"
   ]
  },
  {
   "cell_type": "code",
   "execution_count": 2,
   "metadata": {
    "collapsed": false
   },
   "outputs": [],
   "source": [
    "import sys\n",
    "sys.path.append('/Users/ChimatChen/brainiak')"
   ]
  },
  {
   "cell_type": "markdown",
   "metadata": {
    "collapsed": false,
    "scrolled": false
   },
   "source": [
    "# Load Data "
   ]
  },
  {
   "cell_type": "markdown",
   "metadata": {},
   "source": [
    "Load Training Data"
   ]
  },
  {
   "cell_type": "code",
   "execution_count": 3,
   "metadata": {
    "collapsed": true
   },
   "outputs": [],
   "source": [
    "movie_file = scipy.io.loadmat('data/movie_data.mat')"
   ]
  },
  {
   "cell_type": "code",
   "execution_count": 4,
   "metadata": {
    "collapsed": true
   },
   "outputs": [],
   "source": [
    "movie_data_left = movie_file['movie_data_lh']\n",
    "movie_data_right = movie_file['movie_data_rh']\n",
    "subjects = movie_data_left.shape[2]\n",
    "movie_data = []\n",
    "for s in range(subjects):\n",
    "    movie_data.append(np.concatenate([movie_data_left[:,:,s], movie_data_right[:,:,s]], axis=0))"
   ]
  },
  {
   "cell_type": "markdown",
   "metadata": {},
   "source": [
    "Load Testing Data"
   ]
  },
  {
   "cell_type": "code",
   "execution_count": 5,
   "metadata": {
    "collapsed": true
   },
   "outputs": [],
   "source": [
    "image_file = scipy.io.loadmat('data/image_data.mat')\n",
    "image_data_left = image_file['image_data_lh']\n",
    "image_data_right = image_file['image_data_rh']\n",
    "image_data = []\n",
    "for s in range(subjects):\n",
    "    image_data.append(np.concatenate([image_data_left[:,:,s], image_data_right[:,:,s]], axis=0))\n",
    "    \n",
    "labels = scipy.io.loadmat('data/label.mat')\n",
    "labels = np.squeeze(labels['label'])    "
   ]
  },
  {
   "cell_type": "markdown",
   "metadata": {},
   "source": [
    "# Preprocessing the data if not already processed"
   ]
  },
  {
   "cell_type": "markdown",
   "metadata": {},
   "source": [
    "z-score"
   ]
  },
  {
   "cell_type": "code",
   "execution_count": 6,
   "metadata": {
    "collapsed": true
   },
   "outputs": [],
   "source": [
    "for subject in range(subjects):\n",
    "    movie_data[subject] = stats.zscore(movie_data[subject],axis=1,ddof=1)\n",
    "for subject in range(subjects):\n",
    "    image_data[subject] = stats.zscore(image_data[subject],axis=1,ddof=1)"
   ]
  },
  {
   "cell_type": "markdown",
   "metadata": {},
   "source": [
    "# Fit model to Data"
   ]
  },
  {
   "cell_type": "code",
   "execution_count": 7,
   "metadata": {
    "collapsed": true
   },
   "outputs": [],
   "source": [
    "import brainiak.funcalign.srm"
   ]
  },
  {
   "cell_type": "code",
   "execution_count": 8,
   "metadata": {
    "collapsed": false
   },
   "outputs": [
    {
     "data": {
      "text/plain": [
       "SRM(features=50, n_iter=10, rand_seed=0)"
      ]
     },
     "execution_count": 8,
     "metadata": {},
     "output_type": "execute_result"
    }
   ],
   "source": [
    "srm = brainiak.funcalign.srm.SRM(n_iter=10, features=50)\n",
    "srm.fit(movie_data)"
   ]
  },
  {
   "cell_type": "markdown",
   "metadata": {},
   "source": [
    "# Evaluation"
   ]
  },
  {
   "cell_type": "code",
   "execution_count": 12,
   "metadata": {
    "collapsed": false
   },
   "outputs": [],
   "source": [
    "def prediction_accuracy_evaluation_loo_cv(data, label):\n",
    "    alldata = data[0]\n",
    "    alllabel = label\n",
    "    session_label = 0*np.ones(len(label))\n",
    "\n",
    "    for s in range(1,len(data)):\n",
    "        alldata = np.append(alldata, data[s], axis = 1)\n",
    "        alllabel = np.append(alllabel, label, axis = 0)\n",
    "        session_label = np.append(session_label, s*np.ones(len(label)), axis = 0)\n",
    "    classifier = NuSVC(nu=0.5, kernel='linear')\n",
    "    cv = LeaveOneLabelOut(session_label)\n",
    "    cv_score = cross_val_score(classifier, alldata.T, alllabel, cv=cv)\n",
    "    print(cv_score)\n",
    "    print(\"The average accuracy among all subjects is {0:f} +/- {1:f}\".format(np.mean(cv_score), np.std(cv_score)))"
   ]
  },
  {
   "cell_type": "code",
   "execution_count": 13,
   "metadata": {
    "collapsed": false
   },
   "outputs": [
    {
     "name": "stdout",
     "output_type": "stream",
     "text": [
      "[ 0.73214286  0.64285714  0.625       0.67857143  0.76785714  0.625\n",
      "  0.66071429  0.60714286  0.55357143  0.67857143]\n",
      "The average accuracy among all subjects is 0.657143 +/- 0.058576\n"
     ]
    }
   ],
   "source": [
    "image_data_shared = srm.transform(image_data)\n",
    "for subject in range(subjects):\n",
    "    image_data_shared[subject] = stats.zscore(image_data_shared[subject], axis=1, ddof=1)\n",
    "prediction_accuracy_evaluation_loo_cv(image_data_shared, labels)"
   ]
  },
  {
   "cell_type": "markdown",
   "metadata": {},
   "source": [
    "# MISC"
   ]
  },
  {
   "cell_type": "code",
   "execution_count": 11,
   "metadata": {
    "collapsed": true
   },
   "outputs": [],
   "source": [
    "def plot_confusion_matrix(cm, title=\"Confusion Matrix\"):\n",
    "    \"\"\"Plots a confusion matrix for each subject\"\"\"\n",
    "    import matplotlib.pyplot as plt\n",
    "    import math\n",
    "    plt.figure()\n",
    "    subjects = len(cm)\n",
    "    root_subjects = math.sqrt(subjects)\n",
    "    cols = math.ceil(root_subjects)\n",
    "    rows = math.ceil(subjects/cols)\n",
    "    classes = cm[0].shape[0]\n",
    "    for subject in range(subjects):\n",
    "        plt.subplot(rows, cols, subject+1)\n",
    "        plt.imshow(cm[subject], interpolation='nearest', cmap=plt.cm.bone)\n",
    "        plt.xticks(np.arange(classes), range(1,classes+1))\n",
    "        plt.yticks(np.arange(classes), range(1,classes+1))\n",
    "        cbar = plt.colorbar(ticks=[0.0,1.0], shrink=0.6)\n",
    "        cbar.set_clim(0.0, 1.0)\n",
    "        plt.xlabel(\"Predicted\")\n",
    "        plt.ylabel(\"True label\")\n",
    "        plt.title(\"{0:d}\".format(subject + 1))\n",
    "    plt.suptitle(title)\n",
    "    plt.tight_layout()\n",
    "    plt.show()\n",
    "\n",
    "def predictive_framework_evaluation(model, data, label):\n",
    "    # Run a leave-one-out cross validation with the subjects. We use a $\\nu$-SVM classifier.\n",
    "    \n",
    "    train_labels = np.tile(label, subjects-1)\n",
    "    test_labels = label\n",
    "    accuracy = np.zeros((subjects))\n",
    "    cm = [None] * subjects\n",
    "    for subject in range(subjects):\n",
    "        # Concatenate the subjects' data for training into one matrix\n",
    "        train_subjects = list(range(subjects))\n",
    "        train_subjects.remove(subject)\n",
    "        TRs = data[0].shape[1]\n",
    "        train_data = np.zeros((data[0].shape[0], len(train_labels)))\n",
    "        for train_subject in range(len(train_subjects)):\n",
    "            start_index = train_subject*TRs\n",
    "            end_index = start_index+TRs\n",
    "            train_data[:, start_index:end_index] = data[train_subjects[train_subject]]\n",
    "\n",
    "        # Train a Nu-SVM classifier using scikit learn\n",
    "        classifier = NuSVC(nu=0.5, kernel='linear')\n",
    "        classifier = classifier.fit(train_data.T, train_labels)\n",
    "\n",
    "        # Predict on the test data\n",
    "        predicted_labels = classifier.predict(data[subject].T)\n",
    "        accuracy[subject] = sum(predicted_labels == test_labels)/float(len(predicted_labels))\n",
    "\n",
    "        # Create a confusion matrix to see the accuracy of each class\n",
    "        cm[subject] = confusion_matrix(test_labels, predicted_labels)\n",
    "\n",
    "        # Normalize the confusion matrix\n",
    "        cm[subject] = cm[subject].astype('float') / cm[subject].sum(axis=1)[:, np.newaxis]    \n",
    "    plot_confusion_matrix(cm, title=\"Confusion matrices for different test subjects\")\n",
    "    print(\"The average accuracy among all subjects is {0:f} +/- {1:f}\".format(np.mean(accuracy), np.std(accuracy)))"
   ]
  }
 ],
 "metadata": {
  "anaconda-cloud": {},
  "kernelspec": {
   "display_name": "Python [conda env:py35]",
   "language": "python",
   "name": "conda-env-py35-py"
  },
  "language_info": {
   "codemirror_mode": {
    "name": "ipython",
    "version": 3
   },
   "file_extension": ".py",
   "mimetype": "text/x-python",
   "name": "python",
   "nbconvert_exporter": "python",
   "pygments_lexer": "ipython3",
   "version": "3.5.2"
  }
 },
 "nbformat": 4,
 "nbformat_minor": 0
}
