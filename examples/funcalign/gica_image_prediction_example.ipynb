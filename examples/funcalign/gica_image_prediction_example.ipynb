{
 "cells": [
  {
   "cell_type": "markdown",
   "metadata": {},
   "source": [
    "Import some libraries that we will need"
   ]
  },
  {
   "cell_type": "code",
   "execution_count": 1,
   "metadata": {
    "collapsed": false
   },
   "outputs": [],
   "source": [
    "%matplotlib inline\n",
    "import scipy.io\n",
    "from scipy.stats import stats\n",
    "from sklearn.metrics import confusion_matrix\n",
    "from sklearn.svm import NuSVC\n",
    "import numpy as np"
   ]
  },
  {
   "cell_type": "markdown",
   "metadata": {},
   "source": [
    "Run SRM with the movie data"
   ]
  },
  {
   "cell_type": "code",
   "execution_count": 2,
   "metadata": {
    "collapsed": false
   },
   "outputs": [],
   "source": [
    "import sys\n",
    "sys.path.append('/Users/ChimatChen/brainiak')"
   ]
  },
  {
   "cell_type": "code",
   "execution_count": 3,
   "metadata": {
    "collapsed": false,
    "scrolled": false
   },
   "outputs": [
    {
     "name": "stdout",
     "output_type": "stream",
     "text": [
      "Help on class GICA in module brainiak.funcalign.gica:\n",
      "\n",
      "class GICA(sklearn.base.BaseEstimator, sklearn.base.TransformerMixin)\n",
      " |  Group Independent Component Analysis (GICA)\n",
      " |  \n",
      " |  TODO\n",
      " |  \n",
      " |  Parameters\n",
      " |  ----------\n",
      " |  \n",
      " |  n_iter : int, default: 10\n",
      " |      Number of iterations to run the algorithm.\n",
      " |  \n",
      " |  features : int, default: 50\n",
      " |      Number of features to compute.\n",
      " |  \n",
      " |  rand_seed : int, default: 0\n",
      " |      Seed for initializing the random number generator.\n",
      " |  \n",
      " |  \n",
      " |  Attributes\n",
      " |  ----------\n",
      " |  \n",
      " |  w_ : list of array, element i has shape=[voxels_i, features]\n",
      " |      The orthogonal transforms (mappings) for each subject.\n",
      " |  \n",
      " |  s_ : array, shape=[features, samples]\n",
      " |      The shared response.\n",
      " |  \n",
      " |  sigma_s_ : array, shape=[features, features]\n",
      " |      The covariance of the shared response Normal distribution.\n",
      " |  \n",
      " |  mu_ : list of array, element i has shape=[voxels_i]\n",
      " |      The voxel means over the samples for each subject.\n",
      " |  \n",
      " |  rho2_ : array, shape=[subjects]\n",
      " |      The estimated noise variance :math:`\\rho_i^2` for each subject\n",
      " |  \n",
      " |  \n",
      " |  Note\n",
      " |  ----\n",
      " |  \n",
      " |  Method resolution order:\n",
      " |      GICA\n",
      " |      sklearn.base.BaseEstimator\n",
      " |      sklearn.base.TransformerMixin\n",
      " |      builtins.object\n",
      " |  \n",
      " |  Methods defined here:\n",
      " |  \n",
      " |  __init__(self, n_iter=None, features=50, rand_seed=0)\n",
      " |      Initialize self.  See help(type(self)) for accurate signature.\n",
      " |  \n",
      " |  fit(self, X, y=None)\n",
      " |      Compute GICA\n",
      " |      \n",
      " |      Parameters\n",
      " |      ----------\n",
      " |      X :  list of 2D arrays, element i has shape=[voxels_i, samples]\n",
      " |          Each element in the list contains the fMRI data of one subject.\n",
      " |      \n",
      " |      y : not used\n",
      " |  \n",
      " |  transform(self, X, y=None)\n",
      " |      Use the model to transform matrix to Shared Response space\n",
      " |      \n",
      " |      Parameters\n",
      " |      ----------\n",
      " |      X : list of 2D arrays, element i has shape=[voxels_i, samples_i]\n",
      " |          Each element in the list contains the fMRI data of one subject\n",
      " |          note that number of voxels and samples can vary across subjects\n",
      " |      y : not used (as it is unsupervised learning)\n",
      " |      \n",
      " |      \n",
      " |      Returns\n",
      " |      -------\n",
      " |      s : list of 2D arrays, element i has shape=[features_i, samples_i]\n",
      " |          Shared responses from input data (X)\n",
      " |  \n",
      " |  ----------------------------------------------------------------------\n",
      " |  Methods inherited from sklearn.base.BaseEstimator:\n",
      " |  \n",
      " |  __repr__(self)\n",
      " |      Return repr(self).\n",
      " |  \n",
      " |  get_params(self, deep=True)\n",
      " |      Get parameters for this estimator.\n",
      " |      \n",
      " |      Parameters\n",
      " |      ----------\n",
      " |      deep: boolean, optional\n",
      " |          If True, will return the parameters for this estimator and\n",
      " |          contained subobjects that are estimators.\n",
      " |      \n",
      " |      Returns\n",
      " |      -------\n",
      " |      params : mapping of string to any\n",
      " |          Parameter names mapped to their values.\n",
      " |  \n",
      " |  set_params(self, **params)\n",
      " |      Set the parameters of this estimator.\n",
      " |      \n",
      " |      The method works on simple estimators as well as on nested objects\n",
      " |      (such as pipelines). The former have parameters of the form\n",
      " |      ``<component>__<parameter>`` so that it's possible to update each\n",
      " |      component of a nested object.\n",
      " |      \n",
      " |      Returns\n",
      " |      -------\n",
      " |      self\n",
      " |  \n",
      " |  ----------------------------------------------------------------------\n",
      " |  Data descriptors inherited from sklearn.base.BaseEstimator:\n",
      " |  \n",
      " |  __dict__\n",
      " |      dictionary for instance variables (if defined)\n",
      " |  \n",
      " |  __weakref__\n",
      " |      list of weak references to the object (if defined)\n",
      " |  \n",
      " |  ----------------------------------------------------------------------\n",
      " |  Methods inherited from sklearn.base.TransformerMixin:\n",
      " |  \n",
      " |  fit_transform(self, X, y=None, **fit_params)\n",
      " |      Fit to data, then transform it.\n",
      " |      \n",
      " |      Fits transformer to X and y with optional parameters fit_params\n",
      " |      and returns a transformed version of X.\n",
      " |      \n",
      " |      Parameters\n",
      " |      ----------\n",
      " |      X : numpy array of shape [n_samples, n_features]\n",
      " |          Training set.\n",
      " |      \n",
      " |      y : numpy array of shape [n_samples]\n",
      " |          Target values.\n",
      " |      \n",
      " |      Returns\n",
      " |      -------\n",
      " |      X_new : numpy array of shape [n_samples, n_features_new]\n",
      " |          Transformed array.\n",
      "\n"
     ]
    }
   ],
   "source": [
    "import brainiak.funcalign.gica\n",
    "help(brainiak.funcalign.gica.GICA)"
   ]
  },
  {
   "cell_type": "markdown",
   "metadata": {},
   "source": [
    "Load the input data that contains the movie stimuli for unsupervised training with SRM"
   ]
  },
  {
   "cell_type": "code",
   "execution_count": 4,
   "metadata": {
    "collapsed": true
   },
   "outputs": [],
   "source": [
    "movie_file = scipy.io.loadmat('data/movie_data.mat')"
   ]
  },
  {
   "cell_type": "markdown",
   "metadata": {},
   "source": [
    "Convert data to a list of arrays matching SRM input.\n",
    "Each element is a matrix of voxels by TRs.\n",
    "Also, concatenate data from both hemispheres in the brain."
   ]
  },
  {
   "cell_type": "code",
   "execution_count": 5,
   "metadata": {
    "collapsed": true
   },
   "outputs": [],
   "source": [
    "movie_data_left = movie_file['movie_data_lh']\n",
    "movie_data_right = movie_file['movie_data_rh']\n",
    "subjects = movie_data_left.shape[2]\n",
    "movie_data = []\n",
    "for s in range(subjects):\n",
    "    movie_data.append(np.concatenate([movie_data_left[:, :, s], movie_data_right[:, :, s]], axis=0))"
   ]
  },
  {
   "cell_type": "markdown",
   "metadata": {},
   "source": [
    "Z-score the data"
   ]
  },
  {
   "cell_type": "code",
   "execution_count": 6,
   "metadata": {
    "collapsed": true
   },
   "outputs": [],
   "source": [
    "for subject in range(subjects):\n",
    "    movie_data[subject] = stats.zscore(movie_data[subject],axis=1,ddof=1)"
   ]
  },
  {
   "cell_type": "markdown",
   "metadata": {},
   "source": [
    "Run GICA"
   ]
  },
  {
   "cell_type": "code",
   "execution_count": 7,
   "metadata": {
    "collapsed": false
   },
   "outputs": [
    {
     "name": "stdout",
     "output_type": "stream",
     "text": [
      "whiten is false\n"
     ]
    },
    {
     "name": "stderr",
     "output_type": "stream",
     "text": [
      "/Users/ChimatChen/anaconda/envs/py35/lib/python3.5/site-packages/sklearn/decomposition/fastica_.py:290: UserWarning: Ignoring n_components with whiten=False.\n",
      "  warnings.warn('Ignoring n_components with whiten=False.')\n"
     ]
    },
    {
     "data": {
      "text/plain": [
       "GICA(features=400, n_iter=None, rand_seed=0)"
      ]
     },
     "execution_count": 7,
     "metadata": {},
     "output_type": "execute_result"
    }
   ],
   "source": [
    "gica = brainiak.funcalign.gica.GICA(features=400)\n",
    "gica.fit(movie_data)"
   ]
  },
  {
   "cell_type": "code",
   "execution_count": 8,
   "metadata": {
    "collapsed": false
   },
   "outputs": [
    {
     "name": "stdout",
     "output_type": "stream",
     "text": [
      "321.540916058\n",
      "1483.91374412\n"
     ]
    }
   ],
   "source": [
    "print(np.linalg.norm(movie_data[0] - gica.w_[0].dot(gica.s_[0]),'fro'))\n",
    "print(np.linalg.norm(movie_data[0],'fro'))"
   ]
  },
  {
   "cell_type": "markdown",
   "metadata": {},
   "source": [
    "Load the input data that contains the image stimuli and its labels for training a classifier"
   ]
  },
  {
   "cell_type": "code",
   "execution_count": 9,
   "metadata": {
    "collapsed": true
   },
   "outputs": [],
   "source": [
    "image_file = scipy.io.loadmat('data/image_data.mat')\n",
    "image_data_left = image_file['image_data_lh']\n",
    "image_data_right = image_file['image_data_rh']"
   ]
  },
  {
   "cell_type": "markdown",
   "metadata": {},
   "source": [
    "Convert data to a list of arrays matching SRM input. Each element is a matrix of voxels by TRs. Also, concatenate data from both hemispheres in the brain."
   ]
  },
  {
   "cell_type": "code",
   "execution_count": 10,
   "metadata": {
    "collapsed": true
   },
   "outputs": [],
   "source": [
    "image_data = []\n",
    "for s in range(subjects):\n",
    "    image_data.append(np.concatenate([image_data_left[:, :, s], image_data_right[:, :, s]], axis=0))"
   ]
  },
  {
   "cell_type": "markdown",
   "metadata": {},
   "source": [
    "Z-score the image data"
   ]
  },
  {
   "cell_type": "code",
   "execution_count": 11,
   "metadata": {
    "collapsed": true
   },
   "outputs": [],
   "source": [
    "for subject in range(subjects):\n",
    "    image_data[subject] = stats.zscore(image_data[subject],axis=1,ddof=1)"
   ]
  },
  {
   "cell_type": "markdown",
   "metadata": {},
   "source": [
    "Z-score the Shared Response data"
   ]
  },
  {
   "cell_type": "code",
   "execution_count": 12,
   "metadata": {
    "collapsed": false
   },
   "outputs": [],
   "source": [
    "image_data_shared = gica.transform(image_data)\n",
    "for subject in range(subjects):\n",
    "    image_data_shared[subject] = stats.zscore(image_data_shared[subject], axis=1, ddof=1)"
   ]
  },
  {
   "cell_type": "markdown",
   "metadata": {},
   "source": [
    "Read the labels of the image data"
   ]
  },
  {
   "cell_type": "code",
   "execution_count": 13,
   "metadata": {
    "collapsed": true
   },
   "outputs": [],
   "source": [
    "labels = scipy.io.loadmat('data/label.mat')\n",
    "labels = np.squeeze(labels['label'])"
   ]
  },
  {
   "cell_type": "markdown",
   "metadata": {},
   "source": [
    "Run a leave-one-out cross validation with the subjects. We use a $\\nu$-SVM classifier."
   ]
  },
  {
   "cell_type": "code",
   "execution_count": 14,
   "metadata": {
    "collapsed": true
   },
   "outputs": [],
   "source": [
    "train_labels = np.tile(labels, subjects-1)\n",
    "test_labels = labels\n",
    "accuracy = np.zeros((subjects))\n",
    "cm = [None] * subjects\n",
    "for subject in range(subjects):\n",
    "    # Concatenate the subjects' data for training into one matrix\n",
    "    train_subjects = list(range(subjects))\n",
    "    train_subjects.remove(subject)\n",
    "    TRs = image_data_shared[0].shape[1]\n",
    "    train_data = np.zeros((image_data_shared[0].shape[0], len(train_labels)))\n",
    "    for train_subject in range(len(train_subjects)):\n",
    "        start_index = train_subject*TRs\n",
    "        end_index = start_index+TRs\n",
    "        train_data[:, start_index:end_index] = image_data_shared[train_subjects[train_subject]]\n",
    "\n",
    "    # Train a Nu-SVM classifier using scikit learn\n",
    "    classifier = NuSVC(nu=0.5, kernel='linear')\n",
    "    classifier = classifier.fit(train_data.T, train_labels)\n",
    "\n",
    "    # Predict on the test data\n",
    "    predicted_labels = classifier.predict(image_data_shared[subject].T)\n",
    "    accuracy[subject] = sum(predicted_labels == test_labels)/float(len(predicted_labels))\n",
    "\n",
    "    # Create a confusion matrix to see the accuracy of each class\n",
    "    cm[subject] = confusion_matrix(test_labels, predicted_labels)\n",
    "\n",
    "    # Normalize the confusion matrix\n",
    "    cm[subject] = cm[subject].astype('float') / cm[subject].sum(axis=1)[:, np.newaxis]"
   ]
  },
  {
   "cell_type": "markdown",
   "metadata": {},
   "source": [
    "Define a function that presents the output of the experiment in a plot"
   ]
  },
  {
   "cell_type": "code",
   "execution_count": 15,
   "metadata": {
    "collapsed": true
   },
   "outputs": [],
   "source": [
    "def plot_confusion_matrix(cm, title=\"Confusion Matrix\"):\n",
    "    \"\"\"Plots a confusion matrix for each subject\"\"\"\n",
    "    import matplotlib.pyplot as plt\n",
    "    import math\n",
    "    plt.figure()\n",
    "    subjects = len(cm)\n",
    "    root_subjects = math.sqrt(subjects)\n",
    "    cols = math.ceil(root_subjects)\n",
    "    rows = math.ceil(subjects/cols)\n",
    "    classes = cm[0].shape[0]\n",
    "    for subject in range(subjects):\n",
    "        plt.subplot(rows, cols, subject+1)\n",
    "        plt.imshow(cm[subject], interpolation='nearest', cmap=plt.cm.bone)\n",
    "        plt.xticks(np.arange(classes), range(1,classes+1))\n",
    "        plt.yticks(np.arange(classes), range(1,classes+1))\n",
    "        cbar = plt.colorbar(ticks=[0.0,1.0], shrink=0.6)\n",
    "        cbar.set_clim(0.0, 1.0)\n",
    "        plt.xlabel(\"Predicted\")\n",
    "        plt.ylabel(\"True label\")\n",
    "        plt.title(\"{0:d}\".format(subject + 1))\n",
    "    plt.suptitle(title)\n",
    "    plt.tight_layout()\n",
    "    plt.show()"
   ]
  },
  {
   "cell_type": "markdown",
   "metadata": {},
   "source": [
    " Plot the confusion matrices and print the accuracy results"
   ]
  },
  {
   "cell_type": "code",
   "execution_count": 16,
   "metadata": {
    "collapsed": false
   },
   "outputs": [
    {
     "data": {
      "image/png": "[encoded data removed]",
      "text/plain": [
       "<matplotlib.figure.Figure at 0x10b007978>"
      ]
     },
     "metadata": {},
     "output_type": "display_data"
    },
    {
     "name": "stdout",
     "output_type": "stream",
     "text": [
      "The average accuracy among all subjects is 0.164286 +/- 0.055787\n"
     ]
    }
   ],
   "source": [
    "plot_confusion_matrix(cm, title=\"Confusion matrices for different test subjects\")\n",
    "print(\"The average accuracy among all subjects is {0:f} +/- {1:f}\".format(np.mean(accuracy), np.std(accuracy)))"
   ]
  }
 ],
 "metadata": {
  "anaconda-cloud": {},
  "kernelspec": {
   "display_name": "Python [conda env:py35]",
   "language": "python",
   "name": "conda-env-py35-py"
  },
  "language_info": {
   "codemirror_mode": {
    "name": "ipython",
    "version": 3
   },
   "file_extension": ".py",
   "mimetype": "text/x-python",
   "name": "python",
   "nbconvert_exporter": "python",
   "pygments_lexer": "ipython3",
   "version": "3.5.2"
  }
 },
 "nbformat": 4,
 "nbformat_minor": 0
}
